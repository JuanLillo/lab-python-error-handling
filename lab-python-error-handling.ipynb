{
 "cells": [
  {
   "cell_type": "markdown",
   "id": "25d7736c-ba17-4aff-b6bb-66eba20fbf4e",
   "metadata": {},
   "source": [
    "# Lab | Error Handling"
   ]
  },
  {
   "cell_type": "markdown",
   "id": "bc99b386-7508-47a0-bcdb-d969deaf6c8b",
   "metadata": {},
   "source": [
    "## Exercise: Error Handling for Managing Customer Orders\n",
    "\n",
    "The implementation of your code for managing customer orders assumes that the user will always enter a valid input. \n",
    "\n",
    "For example, we could modify the `initialize_inventory` function to include error handling.\n",
    "   - If the user enters an invalid quantity (e.g., a negative value or a non-numeric value), display an error message and ask them to re-enter the quantity for that product.\n",
    "   - Use a try-except block to handle the error and continue prompting the user until a valid quantity is entered.\n",
    "\n",
    "```python\n",
    "# Step 1: Define the function for initializing the inventory with error handling\n",
    "def initialize_inventory(products):\n",
    "    inventory = {}\n",
    "    for product in products:\n",
    "        valid_quantity = False\n",
    "        while not valid_quantity:\n",
    "            try:\n",
    "                quantity = int(input(f\"Enter the quantity of {product}s available: \"))\n",
    "                if quantity < 0:\n",
    "                    raise ValueError(\"Invalid quantity! Please enter a non-negative value.\")\n",
    "                valid_quantity = True\n",
    "            except ValueError as error:\n",
    "                print(f\"Error: {error}\")\n",
    "        inventory[product] = quantity\n",
    "    return inventory\n",
    "\n",
    "# Or, in another way:\n",
    "\n",
    "def initialize_inventory(products):\n",
    "    inventory = {}\n",
    "    for product in products:\n",
    "        valid_input = False\n",
    "        while not valid_input:\n",
    "            try:\n",
    "                quantity = int(input(f\"Enter the quantity of {product}s available: \"))\n",
    "                if quantity >= 0:\n",
    "                    inventory[product] = quantity\n",
    "                    valid_input = True\n",
    "                else:\n",
    "                    print(\"Quantity cannot be negative. Please enter a valid quantity.\")\n",
    "            except ValueError:\n",
    "                print(\"Invalid input. Please enter a valid quantity.\")\n",
    "    return inventory\n",
    "```\n",
    "\n",
    "Let's enhance your code by implementing error handling to handle invalid inputs.\n",
    "\n",
    "Follow the steps below to complete the exercise:\n",
    "\n",
    "2. Modify the `calculate_total_price` function to include error handling.\n",
    "   - If the user enters an invalid price (e.g., a negative value or a non-numeric value), display an error message and ask them to re-enter the price for that product.\n",
    "   - Use a try-except block to handle the error and continue prompting the user until a valid price is entered.\n",
    "\n",
    "3. Modify the `get_customer_orders` function to include error handling.\n",
    "   - If the user enters an invalid number of orders (e.g., a negative value or a non-numeric value), display an error message and ask them to re-enter the number of orders.\n",
    "   - If the user enters an invalid product name (e.g., a product name that is not in the inventory), or that doesn't have stock available, display an error message and ask them to re-enter the product name. *Hint: you will need to pass inventory as a parameter*\n",
    "   - Use a try-except block to handle the error and continue prompting the user until a valid product name is entered.\n",
    "\n",
    "4. Test your code by running the program and deliberately entering invalid quantities and product names. Make sure the error handling mechanism works as expected.\n"
   ]
  },
  {
   "cell_type": "code",
   "execution_count": 3,
   "id": "e2b0133d-d9b8-4898-8724-1faa7734c067",
   "metadata": {},
   "outputs": [],
   "source": [
    "products = [\"t-shirt\", \"mug\", \"hat\", \"book\", \"keychain\"]"
   ]
  },
  {
   "cell_type": "code",
   "execution_count": 4,
   "id": "a951e387-5433-4194-bd9e-70bd2b77c453",
   "metadata": {},
   "outputs": [],
   "source": [
    "#1\n",
    "def initialize_inventory(products):\n",
    "    inventory = {}\n",
    "    for product in products:\n",
    "        valid_quantity = False\n",
    "        while not valid_quantity:\n",
    "            try:\n",
    "                quantity = int(input(f\"Enter the quantity of {product}s available: \"))\n",
    "                if quantity < 0:\n",
    "                    raise ValueError(\"Invalid quantity! Please enter a non-negative value.\")\n",
    "                valid_quantity = True\n",
    "            except ValueError as error:\n",
    "                print(f\"Error: {error}\")\n",
    "        inventory[product] = quantity\n",
    "    return inventory"
   ]
  },
  {
   "cell_type": "code",
   "execution_count": 5,
   "id": "c95fa60d-e14c-4f8a-b737-c46f29c9b2f7",
   "metadata": {},
   "outputs": [],
   "source": [
    "def initialize_inventory(products):\n",
    "    inventory = {}\n",
    "    for product in products:\n",
    "        valid_input = False\n",
    "        while not valid_input:\n",
    "            try:\n",
    "                quantity = int(input(f\"Enter the quantity of {product}s available: \"))\n",
    "                if quantity >= 0:\n",
    "                    inventory[product] = quantity\n",
    "                    valid_input = True\n",
    "                else:\n",
    "                    print(\"Quantity cannot be negative. Please enter a valid quantity.\")\n",
    "            except ValueError:\n",
    "                print(\"Invalid input. Please enter a valid quantity.\")\n",
    "    return inventory"
   ]
  },
  {
   "cell_type": "code",
   "execution_count": 6,
   "id": "9f76bbab-52de-45a9-b626-34fcdaa1b6fd",
   "metadata": {},
   "outputs": [],
   "source": [
    "#2\n",
    "def calculate_total_price(customer_orders):\n",
    "    prices = {}\n",
    "    for product in customer_orders:\n",
    "        valid_input = False\n",
    "        while not valid_input:\n",
    "            try:\n",
    "                price = float(input(f\"Enter the price for {product}: \"))\n",
    "                if price < 0:\n",
    "                    raise ValueError(\"Invalid price! Please enter a non-negative value.\")\n",
    "                prices[product] = price\n",
    "                valid_input = True\n",
    "            except ValueError as error:\n",
    "                print(f\"Error: {error}. Please enter a valid price.\")\n",
    "    \n",
    "    total_price = sum(prices[product] for product in customer_orders)\n",
    "    return total_price"
   ]
  },
  {
   "cell_type": "code",
   "execution_count": 7,
   "id": "ca5f3fed-6b85-45b9-820d-8255f7337882",
   "metadata": {},
   "outputs": [],
   "source": [
    "#3\n",
    "def get_customer_orders(products, inventory):\n",
    "    valid_input = False\n",
    "    while not valid_input:\n",
    "        try:\n",
    "            num_orders = int(input(\"Enter the number of orders you want to place: \"))\n",
    "            if num_orders < 0:\n",
    "                raise ValueError(\"Number of orders cannot be negative.\")\n",
    "            valid_input = True\n",
    "        except ValueError as error:\n",
    "            print(f\"Error: {error}. Please enter a valid number of orders.\")\n",
    "    \n",
    "    customer_orders = []\n",
    "    for i in range(num_orders):\n",
    "        valid_product = False\n",
    "        while not valid_product:\n",
    "            product = input(f\"Enter product {i+1} from {products}: \")\n",
    "            if product in inventory and inventory[product] > 0:\n",
    "                customer_orders.append(product)\n",
    "                valid_product = True\n",
    "            else:\n",
    "                print(\"Invalid product or insufficient stock. Please enter a valid product name.\")\n",
    "    return customer_orders"
   ]
  },
  {
   "cell_type": "code",
   "execution_count": 8,
   "id": "a5ee0385-1bc0-465c-ab7c-4db1245172e3",
   "metadata": {},
   "outputs": [],
   "source": [
    "def initialize_inventory(products):\n",
    "    inventory = {}\n",
    "    for product in products:\n",
    "        valid_quantity = False\n",
    "        while not valid_quantity:\n",
    "            try:\n",
    "                quantity = int(input(f\"Enter the quantity of {product}s available: \"))\n",
    "                if quantity < 0:\n",
    "                    raise ValueError(\"Invalid quantity! Please enter a non-negative value.\")\n",
    "                valid_quantity = True\n",
    "            except ValueError as error:\n",
    "                print(f\"Error: {error}\")\n",
    "        inventory[product] = quantity\n",
    "    return inventory\n",
    "\n",
    "def calculate_total_price(customer_orders):\n",
    "    prices = {}\n",
    "    for product in customer_orders:\n",
    "        valid_input = False\n",
    "        while not valid_input:\n",
    "            try:\n",
    "                price = float(input(f\"Enter the price for {product}: \"))\n",
    "                if price < 0:\n",
    "                    raise ValueError(\"Invalid price! Please enter a non-negative value.\")\n",
    "                prices[product] = price\n",
    "                valid_input = True\n",
    "            except ValueError as error:\n",
    "                print(f\"Error: {error}. Please enter a valid price.\")\n",
    "    \n",
    "    total_price = sum(prices[product] for product in customer_orders)\n",
    "    return total_price\n",
    "\n",
    "def get_customer_orders(products, inventory):\n",
    "    valid_input = False\n",
    "    while not valid_input:\n",
    "        try:\n",
    "            num_orders = int(input(\"Enter the number of orders you want to place: \"))\n",
    "            if num_orders < 0:\n",
    "                raise ValueError(\"Number of orders cannot be negative.\")\n",
    "            valid_input = True\n",
    "        except ValueError as error:\n",
    "            print(f\"Error: {error}. Please enter a valid number of orders.\")\n",
    "    \n",
    "    customer_orders = []\n",
    "    for i in range(num_orders):\n",
    "        valid_product = False\n",
    "        while not valid_product:\n",
    "            product = input(f\"Enter product {i+1} from {products}: \")\n",
    "            if product in inventory and inventory[product] > 0:\n",
    "                customer_orders.append(product)\n",
    "                valid_product = True\n",
    "            else:\n",
    "                print(\"Invalid product or insufficient stock. Please enter a valid product name.\")\n",
    "    return customer_orders\n",
    "\n",
    "def update_inventory(customer_orders, inventory):\n",
    "    for product in customer_orders:\n",
    "        if product in inventory:\n",
    "            inventory[product] -= 1\n",
    "    \n",
    "    inventory = {product: quantity for product, quantity in inventory.items() if quantity > 0}\n",
    "    \n",
    "    return inventory"
   ]
  },
  {
   "cell_type": "code",
   "execution_count": 20,
   "id": "954274ff-8bd9-4d7b-b9f0-d1bf899adbb8",
   "metadata": {},
   "outputs": [
    {
     "name": "stdin",
     "output_type": "stream",
     "text": [
      "Enter the quantity of t-shirts available:  10\n",
      "Enter the quantity of mugs available:  10\n",
      "Enter the quantity of hats available:  10\n",
      "Enter the quantity of books available:  10\n",
      "Enter the quantity of keychains available:  10\n"
     ]
    }
   ],
   "source": [
    "inventory=initialize_inventory(products)"
   ]
  },
  {
   "cell_type": "code",
   "execution_count": 26,
   "id": "af403b8b-bc74-43aa-86cd-576d6cdf9af6",
   "metadata": {},
   "outputs": [
    {
     "name": "stdin",
     "output_type": "stream",
     "text": [
      "Enter the number of orders you want to place:  3\n",
      "Enter product 1 from ['t-shirt', 'mug', 'hat', 'book', 'keychain']:  mug\n",
      "Enter product 2 from ['t-shirt', 'mug', 'hat', 'book', 'keychain']:  hat\n",
      "Enter product 3 from ['t-shirt', 'mug', 'hat', 'book', 'keychain']:  book\n"
     ]
    }
   ],
   "source": [
    "customer_orders =get_customer_orders(products, inventory)"
   ]
  },
  {
   "cell_type": "code",
   "execution_count": 28,
   "id": "772d8460-d7ae-4d5b-b615-972c70de6f0e",
   "metadata": {},
   "outputs": [
    {
     "name": "stdin",
     "output_type": "stream",
     "text": [
      "Enter the price for mug:  10\n",
      "Enter the price for hat:  10\n",
      "Enter the price for book:  10\n"
     ]
    },
    {
     "data": {
      "text/plain": [
       "30.0"
      ]
     },
     "execution_count": 28,
     "metadata": {},
     "output_type": "execute_result"
    }
   ],
   "source": [
    "calculate_total_price(customer_orders)"
   ]
  },
  {
   "cell_type": "code",
   "execution_count": 30,
   "id": "e4d09b8f-f877-48d0-93e5-c133149e5df1",
   "metadata": {},
   "outputs": [
    {
     "data": {
      "text/plain": [
       "{'t-shirt': 10, 'mug': 9, 'hat': 9, 'book': 9, 'keychain': 10}"
      ]
     },
     "execution_count": 30,
     "metadata": {},
     "output_type": "execute_result"
    }
   ],
   "source": [
    "update_inventory(customer_orders, inventory)"
   ]
  },
  {
   "cell_type": "code",
   "execution_count": null,
   "id": "9eda17fb-c185-448d-a98a-be5b9850447e",
   "metadata": {},
   "outputs": [],
   "source": []
  }
 ],
 "metadata": {
  "kernelspec": {
   "display_name": "Python 3 (ipykernel)",
   "language": "python",
   "name": "python3"
  },
  "language_info": {
   "codemirror_mode": {
    "name": "ipython",
    "version": 3
   },
   "file_extension": ".py",
   "mimetype": "text/x-python",
   "name": "python",
   "nbconvert_exporter": "python",
   "pygments_lexer": "ipython3",
   "version": "3.12.7"
  }
 },
 "nbformat": 4,
 "nbformat_minor": 5
}
